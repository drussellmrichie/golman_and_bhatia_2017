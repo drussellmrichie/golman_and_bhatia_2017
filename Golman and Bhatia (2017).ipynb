{
 "cells": [
  {
   "cell_type": "code",
   "execution_count": 2,
   "metadata": {},
   "outputs": [],
   "source": [
    "import numpy as np\n",
    "from math import e\n",
    "from tqdm import tqdm\n",
    "import pandas as pd\n",
    "import seaborn as sns\n",
    "from itertools import product\n",
    "\n",
    "%matplotlib inline"
   ]
  },
  {
   "cell_type": "markdown",
   "metadata": {},
   "source": [
    "**I'm currently assuming player and oppponent strategy sets are the same.**"
   ]
  },
  {
   "cell_type": "code",
   "execution_count": 4,
   "metadata": {},
   "outputs": [],
   "source": [
    "def simulate_decision(strats=list(range(20,100,10)), T=10, payoff_func=None, _lambda=1, \n",
    "                      sigmas=0, gamma=11):\n",
    "    \"\"\"\n",
    "    strats: list-like of elements which payoff_func can take.\n",
    "\n",
    "    T: integer, number of times to update both player and opponent strategy activations\n",
    "    \n",
    "    payoff_func: function taking player_strategy, opponent_strategy, for traveler's dilemma,\n",
    "    must also specify gamma, a reward/penalty parameter.\n",
    "    \n",
    "    `_lambda`: float. _lambda is a 'stochasticity parameter'. If it's 0, strategies are sampled \n",
    "    from a uniform distribution despite their activations. If `_lambda` is very high, the most \n",
    "    active strategy is always chosen.\n",
    "\n",
    "    `_sigma`: list-like of floats or ints governing the salience (bias) of different strategies.\n",
    "            or 0.\n",
    "    \"\"\"\n",
    "    if sigmas == 0:\n",
    "        sigmas = np.zeros(len(strats))\n",
    "    \n",
    "    player_strategy_activations   = np.zeros(len(strats))\n",
    "    opponent_strategy_activations = np.zeros(len(strats))\n",
    "    \n",
    "    for t in range(T):\n",
    "        for strat_acts in [opponent_strategy_activations, player_strategy_activations]:\n",
    "            num = e**(_lambda*(strat_acts + sigmas))\n",
    "            dist_over_strats = num / num.sum()\n",
    "            sampled_strat = np.random.choice(a=strats, p=dist_over_strats)\n",
    "\n",
    "            player_utilities = [payoff_func(player_strat=x,\n",
    "                                            opponent_strat=sampled_strat,\n",
    "                                            gamma=gamma) for x in strats]\n",
    "            strat_acts += player_utilities\n",
    "\n",
    "    decision = strats[np.argmax(player_strategy_activations)]\n",
    "    return decision"
   ]
  },
  {
   "cell_type": "markdown",
   "metadata": {},
   "source": [
    "# Traveler's Dilemma"
   ]
  },
  {
   "cell_type": "markdown",
   "metadata": {},
   "source": [
    "In the traveler's dilemma, payoffs depend ona  reward/penalty parameter, `_gamma`, which controls how much each player is rewarded/penalized for under/over-bidding."
   ]
  },
  {
   "cell_type": "code",
   "execution_count": 3,
   "metadata": {},
   "outputs": [],
   "source": [
    "def travelers_dillema_payoffs(player_strat, opponent_strat, gamma):\n",
    "    \"\"\"\n",
    "    returns only the player_payoff\n",
    "    \"\"\"\n",
    "    if player_strat > opponent_strat:\n",
    "        return 0.01*(opponent_strat - gamma)\n",
    "    elif player_strat == opponent_strat:\n",
    "        return 0.01*player_strat\n",
    "    else:\n",
    "        return 0.01*(player_strat + gamma)"
   ]
  },
  {
   "cell_type": "code",
   "execution_count": 5,
   "metadata": {},
   "outputs": [
    {
     "data": {
      "text/plain": [
       "70"
      ]
     },
     "execution_count": 5,
     "metadata": {},
     "output_type": "execute_result"
    }
   ],
   "source": [
    "simulate_decision(payoff_func=travelers_dillema_payoffs)"
   ]
  },
  {
   "cell_type": "code",
   "execution_count": 29,
   "metadata": {},
   "outputs": [
    {
     "name": "stderr",
     "output_type": "stream",
     "text": [
      "100%|██████████| 3000/3000 [00:05<00:00, 514.61it/s]\n"
     ]
    },
    {
     "data": {
      "image/png": "[encoded data removed]",
      "text/plain": [
       "<matplotlib.figure.Figure at 0x11a002e80>"
      ]
     },
     "metadata": {},
     "output_type": "display_data"
    }
   ],
   "source": [
    "results = []\n",
    "for _ in tqdm(range(3000)):\n",
    "    result = simulate_decision(payoff_func=travelers_dillema_payoffs, T=10)\n",
    "    results.append(result)\n",
    "    \n",
    "results = pd.Series(results)\n",
    "sns.countplot(x=results, color='green');"
   ]
  },
  {
   "cell_type": "code",
   "execution_count": 20,
   "metadata": {},
   "outputs": [],
   "source": [
    "Ts       = [10, 20, 30]\n",
    "_lambdas = [.25, .5, 1, 2, 4]\n",
    "gammas   = [11, 19]\n",
    "\n",
    "sim_count = 3000"
   ]
  },
  {
   "cell_type": "markdown",
   "metadata": {},
   "source": [
    "This next cell takes about 5 minutes -- there are 30 combinations of the above parameter settings, so the below will need to execute 30 loops."
   ]
  },
  {
   "cell_type": "code",
   "execution_count": 21,
   "metadata": {},
   "outputs": [
    {
     "name": "stderr",
     "output_type": "stream",
     "text": [
      "30it [05:08, 10.28s/it]\n"
     ]
    }
   ],
   "source": [
    "parameter_sweep_results = []\n",
    "for T, _lambda, gamma in tqdm(product(Ts, _lambdas, gammas)):\n",
    "    for _ in range(sim_count):\n",
    "        strategy = simulate_decision(payoff_func=travelers_dillema_payoffs, T=T, _lambda=_lambda, gamma=gamma)\n",
    "        parameter_sweep_results.append([T, _lambda, gamma, strategy])"
   ]
  },
  {
   "cell_type": "code",
   "execution_count": 22,
   "metadata": {},
   "outputs": [
    {
     "data": {
      "text/html": [
       "<div>\n",
       "<style scoped>\n",
       "    .dataframe tbody tr th:only-of-type {\n",
       "        vertical-align: middle;\n",
       "    }\n",
       "\n",
       "    .dataframe tbody tr th {\n",
       "        vertical-align: top;\n",
       "    }\n",
       "\n",
       "    .dataframe thead th {\n",
       "        text-align: right;\n",
       "    }\n",
       "</style>\n",
       "<table border=\"1\" class=\"dataframe\">\n",
       "  <thead>\n",
       "    <tr style=\"text-align: right;\">\n",
       "      <th></th>\n",
       "      <th>T</th>\n",
       "      <th>lambda</th>\n",
       "      <th>gamma</th>\n",
       "      <th>strategy</th>\n",
       "    </tr>\n",
       "  </thead>\n",
       "  <tbody>\n",
       "    <tr>\n",
       "      <th>0</th>\n",
       "      <td>10</td>\n",
       "      <td>0.25</td>\n",
       "      <td>11</td>\n",
       "      <td>60</td>\n",
       "    </tr>\n",
       "    <tr>\n",
       "      <th>1</th>\n",
       "      <td>10</td>\n",
       "      <td>0.25</td>\n",
       "      <td>11</td>\n",
       "      <td>70</td>\n",
       "    </tr>\n",
       "    <tr>\n",
       "      <th>2</th>\n",
       "      <td>10</td>\n",
       "      <td>0.25</td>\n",
       "      <td>11</td>\n",
       "      <td>80</td>\n",
       "    </tr>\n",
       "    <tr>\n",
       "      <th>3</th>\n",
       "      <td>10</td>\n",
       "      <td>0.25</td>\n",
       "      <td>11</td>\n",
       "      <td>40</td>\n",
       "    </tr>\n",
       "    <tr>\n",
       "      <th>4</th>\n",
       "      <td>10</td>\n",
       "      <td>0.25</td>\n",
       "      <td>11</td>\n",
       "      <td>80</td>\n",
       "    </tr>\n",
       "  </tbody>\n",
       "</table>\n",
       "</div>"
      ],
      "text/plain": [
       "    T  lambda  gamma  strategy\n",
       "0  10    0.25     11        60\n",
       "1  10    0.25     11        70\n",
       "2  10    0.25     11        80\n",
       "3  10    0.25     11        40\n",
       "4  10    0.25     11        80"
      ]
     },
     "execution_count": 22,
     "metadata": {},
     "output_type": "execute_result"
    }
   ],
   "source": [
    "parameter_sweep_results = pd.DataFrame(data=parameter_sweep_results, columns=['T', 'lambda', 'gamma', 'strategy'])\n",
    "parameter_sweep_results.head()"
   ]
  },
  {
   "cell_type": "markdown",
   "metadata": {},
   "source": [
    "Generating the plot below takes a minute."
   ]
  },
  {
   "cell_type": "code",
   "execution_count": 32,
   "metadata": {},
   "outputs": [
    {
     "data": {
      "image/png": "[encoded data removed]",
      "text/plain": [
       "<matplotlib.figure.Figure at 0x11d338588>"
      ]
     },
     "metadata": {},
     "output_type": "display_data"
    }
   ],
   "source": [
    "sns.factorplot(x=\"strategy\", col=\"lambda\", row=\"T\", hue=\"gamma\", \n",
    "               data=parameter_sweep_results, kind=\"count\", size=2.5, aspect=.8)"
   ]
  },
  {
   "cell_type": "code",
   "execution_count": 7,
   "metadata": {},
   "outputs": [],
   "source": [
    "# def travelers_dillema_payoffs(player_strat, opponent_strat, gamma):\n",
    "#     \"\"\"\n",
    "#     returns (player_payoff, opponent_payoff)\n",
    "#     \"\"\"\n",
    "#     if player_strat > opponent_strat:\n",
    "#         return (0.01*(opponent_strat - _gamma), 0.01*(opponent_strat + gamma))\n",
    "#     elif player_strat == opponent_strat:\n",
    "#         return (0.01*player_strat, 0.01*opponent_strat)\n",
    "#     else:\n",
    "#         return (0.01*(player_strat + _gamma), 0.01*(player_strat - gamma))"
   ]
  },
  {
   "cell_type": "code",
   "execution_count": 8,
   "metadata": {},
   "outputs": [],
   "source": [
    "# def simulate_decision(strats=list(range(20,100,10)), T=10, payoff_func=None, _lambda=1, \n",
    "#                       sigmas=np.zeros(len(strats)), gamma=11):\n",
    "#     \"\"\"\n",
    "#     strats: list-like of elements which payoff_func can take.\n",
    "\n",
    "#     T: integer, number of times to update both player and opponent strategy activations\n",
    "    \n",
    "#     payoff_func: function taking player_strategy, opponent_strategy, for traveler's dilemma,\n",
    "#     must also specify gamma, a reward/penalty parameter.\n",
    "    \n",
    "#     `_lambda`: float. _lambda 'stochasticity parameter'. If it is 0, strategies are sampled from a \n",
    "#     uniform distribution. If `_lambda` is very high, the most active strategy is chosen\n",
    "#     deterministically.\n",
    "\n",
    "#     `_sigma`: list-like of floats or ints governing the salience (bias) of different strategies.\n",
    "#     \"\"\"\n",
    "#     player_strategy_activations   = np.zeros(len(strats))\n",
    "#     opponent_strategy_activations = np.zeros(len(strats))\n",
    "    \n",
    "#     for t in range(T):\n",
    "#         # guess what the opponent will do, and update strategy preferences accordingly\n",
    "#         num = e**(_lambda*(opponent_strategy_activations + sigmas))\n",
    "#         dist_over_strats = num / num.sum()\n",
    "#         sampled_strat = np.random.choice(a=strats, p=dist_over_strats)\n",
    "        \n",
    "#         player_utilities = [payoff_func(player_strat=x,\n",
    "#                                         opponent_strat=sampled_strat,\n",
    "#                                         gamma=gamma)[0] for x in strats]\n",
    "#         player_strategy_activations += player_utilities\n",
    "\n",
    "#         # the opponent will guess what the player will do, and update strategy preferences accordingly\n",
    "#         num = e**(_lambda*(player_strategy_activations + sigmas))\n",
    "#         dist_over_strats = num / num.sum()\n",
    "#         sampled_strat = np.random.choice(a=strats, p=dist_over_strats)\n",
    "        \n",
    "#         opponent_utilities = [payoff_func(player_strat=x, \n",
    "#                                           opponent_strat=sampled_strat, \n",
    "#                                           gamma=gamma)[0] for x in strats]\n",
    "#         opponent_strategy_activations += opponent_utilities\n",
    "\n",
    "#     # choose the most active strategy\n",
    "#     decision = strats[np.argmax(player_strategy_activations)]\n",
    "#     return decision"
   ]
  }
 ],
 "metadata": {
  "kernelspec": {
   "display_name": "Python [default]",
   "language": "python",
   "name": "python3"
  },
  "language_info": {
   "codemirror_mode": {
    "name": "ipython",
    "version": 3
   },
   "file_extension": ".py",
   "mimetype": "text/x-python",
   "name": "python",
   "nbconvert_exporter": "python",
   "pygments_lexer": "ipython3",
   "version": "3.6.4"
  }
 },
 "nbformat": 4,
 "nbformat_minor": 2
}
