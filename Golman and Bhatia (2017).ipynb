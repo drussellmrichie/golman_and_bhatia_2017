{
 "cells": [
  {
   "cell_type": "markdown",
   "metadata": {},
   "source": [
    "# Golman and Bhatia (2017), A Cognitive Model of Strategic Deliberation and Decision Making"
   ]
  },
  {
   "cell_type": "markdown",
   "metadata": {},
   "source": [
    "Abstract:\n",
    "\n",
    "We study game theoretic decision making using a\n",
    "bidirectional evidence accumulation model. Our model\n",
    "represents both preferences for the strategies available to the\n",
    "decision maker, as well as beliefs regarding the opponent’s\n",
    "choices. Through sequential sampling and accumulation, the\n",
    "model is able to intelligently reason through two-player\n",
    "strategic games, while also generating specific violations of\n",
    "Nash equilibrium typically observed in these games. The\n",
    "main ingredients of accumulator models, stochastic sampling\n",
    "and dynamic accumulation, play a critical role in explaining\n",
    "these behavioral patterns as well as generating novel\n",
    "predictions"
   ]
  },
  {
   "cell_type": "markdown",
   "metadata": {},
   "source": [
    "**This is a partial replication of Golman and Bhatia. I have not yet attempted to reproduce their results for the hi-lo game or the boobytrap game.**"
   ]
  },
  {
   "cell_type": "code",
   "execution_count": 1,
   "metadata": {},
   "outputs": [],
   "source": [
    "import numpy as np\n",
    "from math import e\n",
    "from tqdm import tqdm\n",
    "import pandas as pd\n",
    "import seaborn as sns\n",
    "from itertools import product\n",
    "\n",
    "%matplotlib inline"
   ]
  },
  {
   "cell_type": "markdown",
   "metadata": {},
   "source": [
    "The model has a layer of nodes for the player/decision maker's strategies, and a layer for the opponent's strategies. The model iteratively updates each layer's activations. The below steps illustrate how the player's layer is updated based on the opponent's layer.\n",
    "\n",
    "1. Sample/select a strategy from the opponent's layer, according to the activations and a parameter governing the stochasticity/determinism of the selection process.\n",
    "2. For each strategy, find the utilties the player would get if the opponent played the strategy selected in (1).\n",
    "3. Add the utilities from (2) to the player's current activations\n",
    "\n",
    "A similar process then updates the opponent layer based on the player's layer.\n",
    "\n",
    "Below is a schematic of the model:"
   ]
  },
  {
   "cell_type": "markdown",
   "metadata": {},
   "source": [
    "![](bidirectional_accumulation_model.png)"
   ]
  },
  {
   "cell_type": "code",
   "execution_count": 2,
   "metadata": {},
   "outputs": [],
   "source": [
    "def simulate_decision(strats=list(range(20,100,10)), T=10, payoff_func=None, _lambda=1, \n",
    "                      sigmas=0, gamma=11):\n",
    "    \"\"\"\n",
    "    strats: list-like of elements which payoff_func can take.\n",
    "\n",
    "    T: integer, number of times to update both player and opponent strategy activations\n",
    "    \n",
    "    payoff_func: function taking player_strategy, opponent_strategy, for traveler's dilemma,\n",
    "    must also specify gamma, a reward/penalty parameter.\n",
    "    \n",
    "    `_lambda`: float. _lambda is a 'stochasticity parameter'. If it's 0, strategies are sampled \n",
    "    from a uniform distribution despite their activations. If `_lambda` is very high, the most \n",
    "    active strategy is always chosen.\n",
    "\n",
    "    `_sigma`: list-like of floats or ints governing the salience (bias) of different strategies.\n",
    "            or 0.\n",
    "    \"\"\"\n",
    "    if sigmas == 0:\n",
    "        sigmas = np.zeros(len(strats))\n",
    "    \n",
    "    player_strategy_activations   = np.zeros(len(strats))\n",
    "    opponent_strategy_activations = np.zeros(len(strats))\n",
    "    \n",
    "    for t in range(T):\n",
    "        for strat_acts in [opponent_strategy_activations, player_strategy_activations]:\n",
    "            num = e**(_lambda*(strat_acts + sigmas))\n",
    "            dist_over_strats = num / num.sum()\n",
    "            sampled_strat = np.random.choice(a=strats, p=dist_over_strats)\n",
    "\n",
    "            player_utilities = [payoff_func(player_strat=x,\n",
    "                                            opponent_strat=sampled_strat,\n",
    "                                            gamma=gamma) for x in strats]\n",
    "            strat_acts += player_utilities\n",
    "\n",
    "    decision = strats[np.argmax(player_strategy_activations)]\n",
    "    return decision"
   ]
  },
  {
   "cell_type": "markdown",
   "metadata": {},
   "source": [
    "# Traveler's Dilemma"
   ]
  },
  {
   "cell_type": "markdown",
   "metadata": {},
   "source": [
    "In the traveler's dilemma, two travelers have lost identical items and must request compensation from an airline. The airline, wishing to disincentive outrageously high claims, will accept the lower claim as valid, and pay that amount to both travelers. However, the traveler that submitted the lower claim gets a reward of size `gamma`, while the traveler that submitted the higher claim gets a penalty of equal size."
   ]
  },
  {
   "cell_type": "code",
   "execution_count": 3,
   "metadata": {},
   "outputs": [],
   "source": [
    "def travelers_dillema_payoffs(player_strat, opponent_strat, gamma):\n",
    "    \"\"\"\n",
    "    returns only the player_payoff\n",
    "    \"\"\"\n",
    "    if player_strat > opponent_strat:\n",
    "        return 0.01*(opponent_strat - gamma)\n",
    "    elif player_strat == opponent_strat:\n",
    "        return 0.01*player_strat\n",
    "    else:\n",
    "        return 0.01*(player_strat + gamma)"
   ]
  },
  {
   "cell_type": "code",
   "execution_count": 6,
   "metadata": {},
   "outputs": [],
   "source": [
    "Ts       = [10, 20, 30]\n",
    "_lambdas = [.25, .5, 1, 2, 4]\n",
    "gammas   = [11, 19]\n",
    "\n",
    "sim_count = 3000"
   ]
  },
  {
   "cell_type": "markdown",
   "metadata": {},
   "source": [
    "This next cell takes about 5 minutes -- there are 30 combinations of the above parameter settings, so the below will need to execute 30 loops, each of which runs `sim_count` (usually 3000) simulations."
   ]
  },
  {
   "cell_type": "code",
   "execution_count": 7,
   "metadata": {},
   "outputs": [
    {
     "name": "stderr",
     "output_type": "stream",
     "text": [
      "30it [04:53,  9.79s/it]\n"
     ]
    }
   ],
   "source": [
    "parameter_sweep_results = []\n",
    "for T, _lambda, gamma in tqdm(product(Ts, _lambdas, gammas)):\n",
    "    for _ in range(sim_count):\n",
    "        strategy = simulate_decision(payoff_func=travelers_dillema_payoffs, T=T, \n",
    "                                     _lambda=_lambda, gamma=gamma)\n",
    "        parameter_sweep_results.append([T, _lambda, gamma, strategy])\n",
    "        \n",
    "parameter_sweep_results = pd.DataFrame(data=parameter_sweep_results, columns=['T', 'lambda', 'gamma', 'strategy'])"
   ]
  },
  {
   "cell_type": "code",
   "execution_count": 14,
   "metadata": {},
   "outputs": [
    {
     "data": {
      "image/png": "[encoded data removed]",
      "text/plain": [
       "<matplotlib.figure.Figure at 0x11b605d68>"
      ]
     },
     "metadata": {},
     "output_type": "display_data"
    }
   ],
   "source": [
    "sns.factorplot(x=\"strategy\", col=\"lambda\", row=\"T\", hue=\"gamma\", \n",
    "               data=parameter_sweep_results, kind=\"count\", size=3, aspect=.8);"
   ]
  },
  {
   "cell_type": "markdown",
   "metadata": {},
   "source": [
    "The Nash equilibrium for the Traveler's Dilemma is to submit the lowest possible claim, here 20. In practice people don't do this, typically selecting much higher claims. The above plot shows that, across a wide array of parameter settings, the present model also fails to 'unravel'; that is, the model usually selects a much higher strategy."
   ]
  },
  {
   "cell_type": "code",
   "execution_count": null,
   "metadata": {},
   "outputs": [],
   "source": []
  }
 ],
 "metadata": {
  "kernelspec": {
   "display_name": "Python [default]",
   "language": "python",
   "name": "python3"
  },
  "language_info": {
   "codemirror_mode": {
    "name": "ipython",
    "version": 3
   },
   "file_extension": ".py",
   "mimetype": "text/x-python",
   "name": "python",
   "nbconvert_exporter": "python",
   "pygments_lexer": "ipython3",
   "version": "3.6.4"
  }
 },
 "nbformat": 4,
 "nbformat_minor": 2
}
