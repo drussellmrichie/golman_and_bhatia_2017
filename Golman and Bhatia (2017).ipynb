{
 "cells": [
  {
   "cell_type": "markdown",
   "metadata": {},
   "source": [
    "# [Golman and Bhatia (2017)](https://www.sas.upenn.edu/~bhatiasu/Golman%20&%20Bhatia%202017%20CogSci%20PP.pdf), A Cognitive Model of Strategic Deliberation and Decision Making"
   ]
  },
  {
   "cell_type": "markdown",
   "metadata": {},
   "source": [
    "Abstract:\n",
    "\n",
    "We study game theoretic decision making using a\n",
    "bidirectional evidence accumulation model. Our model\n",
    "represents both preferences for the strategies available to the\n",
    "decision maker, as well as beliefs regarding the opponent’s\n",
    "choices. Through sequential sampling and accumulation, the\n",
    "model is able to intelligently reason through two-player\n",
    "strategic games, while also generating specific violations of\n",
    "Nash equilibrium typically observed in these games. The\n",
    "main ingredients of accumulator models, stochastic sampling\n",
    "and dynamic accumulation, play a critical role in explaining\n",
    "these behavioral patterns as well as generating novel\n",
    "predictions"
   ]
  },
  {
   "cell_type": "code",
   "execution_count": 2,
   "metadata": {},
   "outputs": [],
   "source": [
    "import numpy as np\n",
    "from math import e\n",
    "from tqdm import tqdm\n",
    "import pandas as pd\n",
    "import seaborn as sns\n",
    "from itertools import product\n",
    "import matplotlib.pyplot as plt\n",
    "# from joblib import Parallel, delayed\n",
    "import multiprocessing\n",
    "\n",
    "%matplotlib inline"
   ]
  },
  {
   "cell_type": "markdown",
   "metadata": {},
   "source": [
    "The model has a layer of nodes for the player/decision maker's strategies, and a layer for the opponent's strategies. The model iteratively updates each layer's activations based on the other layer's activations. The below steps illustrate how the player's layer is updated based on the opponent's layer.\n",
    "\n",
    "1. Sample/select a strategy from the opponent's layer, according to the activations and a parameter governing the stochasticity/determinism of the selection process.\n",
    "2. For each strategy, find the utilties the player would get if the opponent played the strategy selected in (1).\n",
    "3. Add the utilities from (2) to the player's current activations\n",
    "\n",
    "A similar process then updates the opponent layer based on the player's layer.\n",
    "\n",
    "Below is a schematic of the model:"
   ]
  },
  {
   "cell_type": "markdown",
   "metadata": {},
   "source": [
    "![](bidirectional_accumulation_model.png)"
   ]
  },
  {
   "cell_type": "code",
   "execution_count": 3,
   "metadata": {},
   "outputs": [],
   "source": [
    "def simulate_decision(strats=None, T=10, payoff_func=None, _lambda=1, \n",
    "                      sigmas=None, gamma=None):\n",
    "    \"\"\"\n",
    "    strats: list-like of elements which payoff_func can take.\n",
    "\n",
    "    T: integer, number of times to update both player and opponent strategy activations\n",
    "    \n",
    "    payoff_func: function taking player_strategy, opponent_strategy, for traveler's dilemma,\n",
    "    must also specify gamma, a reward/penalty parameter.\n",
    "    \n",
    "    `_lambda`: float. _lambda is a 'stochasticity parameter'. If it's 0, strategies are sampled \n",
    "    from a uniform distribution despite their activations. If `_lambda` is very high, the most \n",
    "    active strategy is always chosen.\n",
    "\n",
    "    `_sigma`: list-like of floats or ints governing the salience (bias) of different strategies.\n",
    "            or 0.\n",
    "    \"\"\"\n",
    "    if not isinstance(sigmas, np.ndarray):\n",
    "        sigmas = np.zeros(len(strats))\n",
    "    \n",
    "    player_strat_acts   = np.zeros(len(strats))\n",
    "    opponent_strat_acts = np.zeros(len(strats))\n",
    "    \n",
    "    for t in range(T):\n",
    "        for _ in range(2):\n",
    "            num = e**(_lambda*(opponent_strat_acts + sigmas))\n",
    "            dist_over_strats = num / num.sum()\n",
    "            sampled_strat = np.random.choice(a=strats, p=dist_over_strats)\n",
    "\n",
    "            player_utilities = [payoff_func(player_strat=x,\n",
    "                                            opponent_strat=sampled_strat,\n",
    "                                            gamma=gamma) for x in strats]\n",
    "            player_strat_acts += player_utilities\n",
    "            player_strat_acts, opponent_strat_acts = opponent_strat_acts, player_strat_acts\n",
    "            \n",
    "    decision = strats[np.argmax(player_strategy_activations)]\n",
    "    return decision"
   ]
  },
  {
   "cell_type": "code",
   "execution_count": 4,
   "metadata": {},
   "outputs": [],
   "source": [
    "def parameter_sweep(strats=None, payoff_func=None, Ts=[10,20,30], _lambdas=[.25, .5, 1, 2, 4], \n",
    "                    gammas=None, sigmas=[None], sim_count=3000):\n",
    "    parameter_sweep_results = []\n",
    "    for T, _lambda, gamma, curr_sigmas in tqdm(product(Ts, _lambdas, gammas, sigmas)):\n",
    "        for _ in range(sim_count):\n",
    "            strategy = simulate_decision(strats=strats,\n",
    "                                         payoff_func=payoff_func, T=T, \n",
    "                                         _lambda=_lambda, gamma=gamma,\n",
    "                                         sigmas=curr_sigmas)\n",
    "            parameter_sweep_results.append([T, _lambda, gamma, curr_sigmas, strategy])\n",
    "\n",
    "    parameter_sweep_results = pd.DataFrame(data=parameter_sweep_results, columns=['T', 'lambda', 'gamma', 'sigmas', 'strategy'])\n",
    "    return parameter_sweep_results"
   ]
  },
  {
   "cell_type": "markdown",
   "metadata": {},
   "source": [
    "# Traveler's Dilemma"
   ]
  },
  {
   "cell_type": "markdown",
   "metadata": {},
   "source": [
    "In the traveler's dilemma, two travelers have lost identical items and must request compensation from an airline. The airline, wishing to disincentive outrageously high claims, will accept the lower claim as valid, and pay that amount to both travelers. However, the traveler that submitted the lower claim gets a reward of size `gamma`, while the traveler that submitted the higher claim gets a penalty of equal size."
   ]
  },
  {
   "cell_type": "code",
   "execution_count": 4,
   "metadata": {},
   "outputs": [],
   "source": [
    "def travelers_dilemma_payoffs(player_strat, opponent_strat, gamma):\n",
    "    \"\"\"\n",
    "    returns only the player_payoff\n",
    "    \"\"\"\n",
    "    if player_strat > opponent_strat:\n",
    "        return 0.01*(opponent_strat - gamma)\n",
    "    elif player_strat == opponent_strat:\n",
    "        return 0.01*player_strat\n",
    "    else:\n",
    "        return 0.01*(player_strat + gamma)"
   ]
  },
  {
   "cell_type": "code",
   "execution_count": 5,
   "metadata": {},
   "outputs": [
    {
     "data": {
      "text/plain": [
       "60"
      ]
     },
     "execution_count": 5,
     "metadata": {},
     "output_type": "execute_result"
    }
   ],
   "source": [
    "simulate_decision(strats=list(range(20,100,10)), payoff_func=travelers_dilemma_payoffs, gamma=11)"
   ]
  },
  {
   "cell_type": "markdown",
   "metadata": {},
   "source": [
    "This next cell takes about 5 minutes -- there are 30 combinations of the above parameter settings, so the below will need to execute 30 loops, each of which runs `sim_count` (usually 3000) simulations."
   ]
  },
  {
   "cell_type": "code",
   "execution_count": null,
   "metadata": {},
   "outputs": [],
   "source": [
    "parameter_sweep_results = parameter_sweep(strats=list(range(20,100,10)), payoff_func=travelers_dilemma_payoffs, gammas=[11,19])\\\n",
    "                                         .drop('sigmas', axis=1)"
   ]
  },
  {
   "cell_type": "code",
   "execution_count": 7,
   "metadata": {},
   "outputs": [],
   "source": [
    "parameter_sweep_results.to_csv('travelers_dilemma_results.csv')"
   ]
  },
  {
   "cell_type": "code",
   "execution_count": 8,
   "metadata": {},
   "outputs": [
    {
     "data": {
      "image/png": "[encoded data removed]",
      "text/plain": [
       "<Figure size 912.75x648 with 15 Axes>"
      ]
     },
     "metadata": {},
     "output_type": "display_data"
    }
   ],
   "source": [
    "sns.factorplot(x=\"strategy\", col=\"lambda\", row=\"T\", hue=\"gamma\", \n",
    "               data=parameter_sweep_results, kind=\"count\", size=3, aspect=.8);"
   ]
  },
  {
   "cell_type": "markdown",
   "metadata": {},
   "source": [
    "The Nash equilibrium for the Traveler's Dilemma is to submit the lowest possible claim, here 20. In practice people don't do this, typically selecting much higher claims. The above plot shows that, across a wide array of parameter settings, the present model also fails to 'unravel'; that is, the model usually selects a much higher strategy."
   ]
  },
  {
   "cell_type": "markdown",
   "metadata": {},
   "source": [
    "# Hi-Lo game"
   ]
  },
  {
   "cell_type": "code",
   "execution_count": 9,
   "metadata": {},
   "outputs": [],
   "source": [
    "def hi_lo_payoffs(player_strat, opponent_strat, gamma):\n",
    "    if (player_strat == 'Hi') and (opponent_strat == 'Hi'):\n",
    "        return 1.0\n",
    "    elif (player_strat == 'Lo') and (opponent_strat == 'Lo'):\n",
    "        return gamma\n",
    "    else:\n",
    "        return 0"
   ]
  },
  {
   "cell_type": "code",
   "execution_count": 55,
   "metadata": {},
   "outputs": [],
   "source": [
    "hi_lo_strats = ['Hi', 'Lo']"
   ]
  },
  {
   "cell_type": "code",
   "execution_count": 10,
   "metadata": {},
   "outputs": [
    {
     "data": {
      "text/plain": [
       "'Lo'"
      ]
     },
     "execution_count": 10,
     "metadata": {},
     "output_type": "execute_result"
    }
   ],
   "source": [
    "simulate_decision(strats=['Hi','Lo'],payoff_func=hi_lo_payoffs, T=10, _lambda=.25, gamma=.9)"
   ]
  },
  {
   "cell_type": "markdown",
   "metadata": {},
   "source": [
    "This next cell takes 15-20 minutes."
   ]
  },
  {
   "cell_type": "code",
   "execution_count": 11,
   "metadata": {},
   "outputs": [
    {
     "name": "stderr",
     "output_type": "stream",
     "text": [
      "135it [19:55,  8.85s/it]\n"
     ]
    }
   ],
   "source": [
    "gamms = np.linspace(.1,.9,9)\n",
    "sim_count = 3000\n",
    "\n",
    "parameter_sweep_results = parameter_sweep(strats=hi_lo_strats, payoff_func=hi_lo_payoffs, gammas=gammas, sim_count=sim_count)\n",
    "parameter_sweep_results.drop('sigmas', axis=1, inplace=True)"
   ]
  },
  {
   "cell_type": "code",
   "execution_count": 13,
   "metadata": {},
   "outputs": [],
   "source": [
    "parameter_sweep_results.to_csv('hi_lo_results.csv')"
   ]
  },
  {
   "cell_type": "code",
   "execution_count": null,
   "metadata": {},
   "outputs": [],
   "source": [
    "strat_counts = parameter_sweep_results.groupby(['T','lambda','gamma','strategy']).size().reset_index()\n",
    "strat_counts = strat_counts.query(\"strategy == 'Hi'\")\n",
    "strat_counts.drop('strategy', axis=1, inplace=True)\n",
    "strat_counts[0] /= sim_count\n",
    "strat_counts.columns = ['T', 'lambda', 'Payoff for Lo-Lo', 'Probability of Hi']"
   ]
  },
  {
   "cell_type": "code",
   "execution_count": 54,
   "metadata": {},
   "outputs": [
    {
     "data": {
      "image/png": "[encoded data removed]",
      "text/plain": [
       "<Figure size 1128.62x216 with 5 Axes>"
      ]
     },
     "metadata": {},
     "output_type": "display_data"
    }
   ],
   "source": [
    "g = sns.FacetGrid(strat_counts, col=\"lambda\",  hue=\"T\")\n",
    "g = (g.map(plt.scatter, \"Payoff for Lo-Lo\", \"Probability of Hi\", edgecolor=\"w\")\n",
    "      .add_legend()\n",
    "      .set(ylim=(0,1)))"
   ]
  },
  {
   "cell_type": "markdown",
   "metadata": {},
   "source": [
    "(There must be a simpler way to generate that plot without all the munging a couple cells above...)"
   ]
  },
  {
   "cell_type": "markdown",
   "metadata": {},
   "source": [
    "# Boobytrap game"
   ]
  },
  {
   "cell_type": "markdown",
   "metadata": {},
   "source": [
    "In some games, decision makers do not choose any of the Nash equilibrium strategies when the potential costs of miscoordination are too great. This can be observed in the boobytrap game, which is a standard prisoner’s dilemma\n",
    "augmented with a third option that allows decision makers to purchase a “boobytrap” to punish their opponent if he or\n",
    "she defects (Misyak & Chater, 2014). Particularly, we have uij = (0.9,0.9) if both players cooperate, uij = (0.8,0.8) if both players defect, and uij = (0.89,0.89) if both players choose boobytrap. Additionally, uij = (0.7,1) if player 1 cooperates and player 2 defects, uij = (0.9,0.89) if player 1 cooperates and player 2 chooses boobytrap, and uij = (0,0.69) if player 1 defects and player 2 chooses boobytrap (and vice versa, as the game is symmetric). "
   ]
  },
  {
   "cell_type": "code",
   "execution_count": 34,
   "metadata": {},
   "outputs": [],
   "source": [
    "# first level of dict is opponent's strategy, second level is player strategy\n",
    "boobytrap_payoffs_dict = {'boobytrap': {'boobytrap': 0.89, 'coop': 0.9, 'defect': 0.0},\n",
    "                          'coop':      {'boobytrap': 0.89, 'coop': 0.9, 'defect': 1.0},\n",
    "                          'defect':    {'boobytrap': 0.69, 'coop': 0.7, 'defect': 0.8}\n",
    "                          }\n",
    "\n",
    "def boobytrap_payoffs_func(player_strat, opponent_strat, gamma):\n",
    "    return boobytrap_payoffs_dict[opponent_strat][player_strat]"
   ]
  },
  {
   "cell_type": "code",
   "execution_count": 42,
   "metadata": {},
   "outputs": [
    {
     "data": {
      "text/plain": [
       "'coop'"
      ]
     },
     "execution_count": 42,
     "metadata": {},
     "output_type": "execute_result"
    }
   ],
   "source": [
    "boobytrap_strats = ['coop','defect','boobytrap']\n",
    "simulate_decision(strats=boobytrap_strats, payoff_func=boobytrap_payoffs_func, \n",
    "                  T=10, _lambda=1, gamma=None)"
   ]
  },
  {
   "cell_type": "code",
   "execution_count": 43,
   "metadata": {},
   "outputs": [],
   "source": [
    "Ts       = [10, 30]\n",
    "_lambdas = [.25, 4]"
   ]
  },
  {
   "cell_type": "code",
   "execution_count": 58,
   "metadata": {},
   "outputs": [
    {
     "name": "stderr",
     "output_type": "stream",
     "text": [
      "4it [00:34,  8.75s/it]\n"
     ]
    }
   ],
   "source": [
    "parameter_sweep_results = parameter_sweep(strats=boobytrap_strats, payoff_func=boobytrap_payoffs_func, \n",
    "                                          Ts=Ts, _lambdas=_lambdas, gammas=[None])\n",
    "parameter_sweep_results.drop('sigmas', axis=1, inplace=True)"
   ]
  },
  {
   "cell_type": "code",
   "execution_count": 59,
   "metadata": {},
   "outputs": [],
   "source": [
    "parameter_sweep_results.to_csv('boobytrap_results.csv')"
   ]
  },
  {
   "cell_type": "code",
   "execution_count": 64,
   "metadata": {},
   "outputs": [
    {
     "data": {
      "image/png": "[encoded data removed]",
      "text/plain": [
       "<Figure size 345.6x432 with 4 Axes>"
      ]
     },
     "metadata": {},
     "output_type": "display_data"
    }
   ],
   "source": [
    "sns.factorplot(x=\"strategy\", col=\"lambda\", row=\"T\", data=parameter_sweep_results, kind=\"count\", size=3, aspect=.8);"
   ]
  },
  {
   "cell_type": "markdown",
   "metadata": {},
   "source": [
    "Model never decides to set boobytrap, and almost always decides to cooperate, like people do, but contrary to nash equilibrium theory."
   ]
  },
  {
   "cell_type": "markdown",
   "metadata": {},
   "source": [
    "# Heads-or-tails coordination game"
   ]
  },
  {
   "cell_type": "code",
   "execution_count": 6,
   "metadata": {},
   "outputs": [],
   "source": [
    "def heads_or_tails_payoffs(player_strat, opponent_strat, gamma):\n",
    "    return 1 if player_strat == opponent_strat else 0"
   ]
  },
  {
   "cell_type": "markdown",
   "metadata": {},
   "source": [
    "Now we try modeling the effect of a particularly salient strategy, e.g., head of a coin, by setting the sigma for one of the strategies above 0."
   ]
  },
  {
   "cell_type": "code",
   "execution_count": 7,
   "metadata": {},
   "outputs": [
    {
     "data": {
      "text/plain": [
       "'heads'"
      ]
     },
     "execution_count": 7,
     "metadata": {},
     "output_type": "execute_result"
    }
   ],
   "source": [
    "heads_tails_strats = ['heads', 'tails']\n",
    "simulate_decision(strats=heads_tails_strats, payoff_func=heads_or_tails_payoffs, \n",
    "                  T=10, _lambda=1, sigmas=[.5,0], gamma=None)"
   ]
  },
  {
   "cell_type": "code",
   "execution_count": 8,
   "metadata": {},
   "outputs": [],
   "source": [
    "Ts       = [10, 20, 30]\n",
    "_lambdas = [.25, .5, 1, 2, 4]\n",
    "sigmas   = [np.array((x,y)) for (x,y) in product(np.linspace(.1,1.0,10), [0])]\n",
    "gammas   = ['None']"
   ]
  },
  {
   "cell_type": "markdown",
   "metadata": {},
   "source": [
    "The below takesa about 20 minutes."
   ]
  },
  {
   "cell_type": "code",
   "execution_count": 12,
   "metadata": {},
   "outputs": [
    {
     "name": "stderr",
     "output_type": "stream",
     "text": [
      "150it [21:24,  8.56s/it]\n"
     ]
    }
   ],
   "source": [
    "parameter_sweep_results = parameter_sweep(strats=heads_tails_strats, payoff_func=heads_or_tails_payoffs, Ts=Ts,\n",
    "                                         _lambdas=_lambdas, sigmas=sigmas, gammas=gammas)"
   ]
  },
  {
   "cell_type": "code",
   "execution_count": 14,
   "metadata": {},
   "outputs": [
    {
     "data": {
      "text/html": [
       "<div>\n",
       "<style scoped>\n",
       "    .dataframe tbody tr th:only-of-type {\n",
       "        vertical-align: middle;\n",
       "    }\n",
       "\n",
       "    .dataframe tbody tr th {\n",
       "        vertical-align: top;\n",
       "    }\n",
       "\n",
       "    .dataframe thead th {\n",
       "        text-align: right;\n",
       "    }\n",
       "</style>\n",
       "<table border=\"1\" class=\"dataframe\">\n",
       "  <thead>\n",
       "    <tr style=\"text-align: right;\">\n",
       "      <th></th>\n",
       "      <th>T</th>\n",
       "      <th>lambda</th>\n",
       "      <th>gamma</th>\n",
       "      <th>sigmas</th>\n",
       "      <th>strategy</th>\n",
       "    </tr>\n",
       "  </thead>\n",
       "  <tbody>\n",
       "    <tr>\n",
       "      <th>0</th>\n",
       "      <td>10</td>\n",
       "      <td>0.25</td>\n",
       "      <td>None</td>\n",
       "      <td>[0.1, 0.0]</td>\n",
       "      <td>heads</td>\n",
       "    </tr>\n",
       "    <tr>\n",
       "      <th>1</th>\n",
       "      <td>10</td>\n",
       "      <td>0.25</td>\n",
       "      <td>None</td>\n",
       "      <td>[0.1, 0.0]</td>\n",
       "      <td>heads</td>\n",
       "    </tr>\n",
       "    <tr>\n",
       "      <th>2</th>\n",
       "      <td>10</td>\n",
       "      <td>0.25</td>\n",
       "      <td>None</td>\n",
       "      <td>[0.1, 0.0]</td>\n",
       "      <td>heads</td>\n",
       "    </tr>\n",
       "    <tr>\n",
       "      <th>3</th>\n",
       "      <td>10</td>\n",
       "      <td>0.25</td>\n",
       "      <td>None</td>\n",
       "      <td>[0.1, 0.0]</td>\n",
       "      <td>tails</td>\n",
       "    </tr>\n",
       "    <tr>\n",
       "      <th>4</th>\n",
       "      <td>10</td>\n",
       "      <td>0.25</td>\n",
       "      <td>None</td>\n",
       "      <td>[0.1, 0.0]</td>\n",
       "      <td>tails</td>\n",
       "    </tr>\n",
       "  </tbody>\n",
       "</table>\n",
       "</div>"
      ],
      "text/plain": [
       "    T  lambda gamma      sigmas strategy\n",
       "0  10    0.25  None  [0.1, 0.0]    heads\n",
       "1  10    0.25  None  [0.1, 0.0]    heads\n",
       "2  10    0.25  None  [0.1, 0.0]    heads\n",
       "3  10    0.25  None  [0.1, 0.0]    tails\n",
       "4  10    0.25  None  [0.1, 0.0]    tails"
      ]
     },
     "execution_count": 14,
     "metadata": {},
     "output_type": "execute_result"
    }
   ],
   "source": [
    "parameter_sweep_results.head()"
   ]
  },
  {
   "cell_type": "code",
   "execution_count": 16,
   "metadata": {},
   "outputs": [],
   "source": [
    "parameter_sweep_results.to_pickle('heads_tails_results.pkl')"
   ]
  },
  {
   "cell_type": "code",
   "execution_count": 17,
   "metadata": {},
   "outputs": [],
   "source": [
    "parameter_sweep_results['sigmas'] = parameter_sweep_results['sigmas'].apply(lambda x: x[0])"
   ]
  },
  {
   "cell_type": "code",
   "execution_count": 34,
   "metadata": {},
   "outputs": [],
   "source": [
    "# parameter_sweep_results['gamma'] = 'None'"
   ]
  },
  {
   "cell_type": "code",
   "execution_count": 20,
   "metadata": {},
   "outputs": [],
   "source": [
    "sim_count = 3000"
   ]
  },
  {
   "cell_type": "code",
   "execution_count": 41,
   "metadata": {},
   "outputs": [
    {
     "data": {
      "text/html": [
       "<div>\n",
       "<style scoped>\n",
       "    .dataframe tbody tr th:only-of-type {\n",
       "        vertical-align: middle;\n",
       "    }\n",
       "\n",
       "    .dataframe tbody tr th {\n",
       "        vertical-align: top;\n",
       "    }\n",
       "\n",
       "    .dataframe thead th {\n",
       "        text-align: right;\n",
       "    }\n",
       "</style>\n",
       "<table border=\"1\" class=\"dataframe\">\n",
       "  <thead>\n",
       "    <tr style=\"text-align: right;\">\n",
       "      <th></th>\n",
       "      <th>T</th>\n",
       "      <th>lambda</th>\n",
       "      <th>Salience of heads</th>\n",
       "      <th>Probability of heads</th>\n",
       "    </tr>\n",
       "  </thead>\n",
       "  <tbody>\n",
       "    <tr>\n",
       "      <th>0</th>\n",
       "      <td>10</td>\n",
       "      <td>0.25</td>\n",
       "      <td>0.1</td>\n",
       "      <td>0.594000</td>\n",
       "    </tr>\n",
       "    <tr>\n",
       "      <th>2</th>\n",
       "      <td>10</td>\n",
       "      <td>0.25</td>\n",
       "      <td>0.2</td>\n",
       "      <td>0.586000</td>\n",
       "    </tr>\n",
       "    <tr>\n",
       "      <th>4</th>\n",
       "      <td>10</td>\n",
       "      <td>0.25</td>\n",
       "      <td>0.3</td>\n",
       "      <td>0.610000</td>\n",
       "    </tr>\n",
       "    <tr>\n",
       "      <th>6</th>\n",
       "      <td>10</td>\n",
       "      <td>0.25</td>\n",
       "      <td>0.4</td>\n",
       "      <td>0.631333</td>\n",
       "    </tr>\n",
       "    <tr>\n",
       "      <th>8</th>\n",
       "      <td>10</td>\n",
       "      <td>0.25</td>\n",
       "      <td>0.5</td>\n",
       "      <td>0.629000</td>\n",
       "    </tr>\n",
       "  </tbody>\n",
       "</table>\n",
       "</div>"
      ],
      "text/plain": [
       "    T  lambda  Salience of heads  Probability of heads\n",
       "0  10    0.25                0.1              0.594000\n",
       "2  10    0.25                0.2              0.586000\n",
       "4  10    0.25                0.3              0.610000\n",
       "6  10    0.25                0.4              0.631333\n",
       "8  10    0.25                0.5              0.629000"
      ]
     },
     "execution_count": 41,
     "metadata": {},
     "output_type": "execute_result"
    }
   ],
   "source": [
    "strat_counts = parameter_sweep_results.groupby(['T','lambda','gamma','sigmas','strategy']).size().reset_index()\n",
    "strat_counts = strat_counts.query(\"strategy == 'heads'\")\n",
    "strat_counts.drop(['strategy','gamma'], axis=1, inplace=True)\n",
    "strat_counts[0] /= sim_count\n",
    "strat_counts.columns = ['T', 'lambda', 'Salience of heads', 'Probability of heads']\n",
    "strat_counts.head()"
   ]
  },
  {
   "cell_type": "code",
   "execution_count": 43,
   "metadata": {},
   "outputs": [
    {
     "data": {
      "image/png": "[encoded data removed]",
      "text/plain": [
       "<Figure size 1128.62x216 with 5 Axes>"
      ]
     },
     "metadata": {},
     "output_type": "display_data"
    }
   ],
   "source": [
    "g = sns.FacetGrid(strat_counts, col=\"lambda\",  hue=\"T\")\n",
    "g = (g.map(plt.scatter, \"Salience of heads\", \"Probability of heads\", edgecolor=\"w\")\n",
    "      .add_legend()\n",
    "      .set(ylim=(0,1)))"
   ]
  },
  {
   "cell_type": "markdown",
   "metadata": {},
   "source": [
    "# Facility location game"
   ]
  },
  {
   "cell_type": "code",
   "execution_count": 258,
   "metadata": {},
   "outputs": [],
   "source": [
    "def simulate_decision_asymm(player_strats=None, opponent_strats=None, \n",
    "                            player_payoff=None, opponent_payoff=None, T=10, _lambda=1, sigmas=None, gamma=None):\n",
    "    if not isinstance(sigmas, np.ndarray):\n",
    "        sigmas = np.zeros(len(player_strats))\n",
    "    \n",
    "    player_strat_acts   = np.zeros(len(player_strats))\n",
    "    opponent_strat_acts = np.zeros(len(opponent_strats))\n",
    "    \n",
    "    for t in range(T):\n",
    "        for _ in range(2):\n",
    "            \n",
    "            scaled_acts = e**(_lambda*(opponent_strat_acts + sigmas))\n",
    "            dist_over_oppo_strats = scaled_acts / scaled_acts.sum()\n",
    "            oppo_sampled_strat = np.random.choice(a=opponent_strats, p=dist_over_oppo_strats)\n",
    "\n",
    "            player_utilities = [player_payoff[oppo_sampled_strat][player_strat] for player_strat in player_strats]\n",
    "            player_strat_acts += player_utilities\n",
    "            \n",
    "            player_strats, opponent_strats = opponent_strats, player_strats\n",
    "            player_payoff, opponent_payoff = opponent_payoff, player_payoff\n",
    "            player_strat_acts, opponent_strat_acts = opponent_strat_acts, player_strat_acts\n",
    "            \n",
    "    decision = player_strats[np.argmax(player_strat_acts)]\n",
    "    return decision"
   ]
  },
  {
   "cell_type": "code",
   "execution_count": 259,
   "metadata": {},
   "outputs": [],
   "source": [
    "oppo_facility_location_payoffs_dict = {'A': {'B': 5, 'D': 4, 'F': 3},\n",
    "                                       'C': {'B': 2, 'D': 3, 'F': 2},\n",
    "                                       'E': {'B': 3, 'D': 4, 'F': 1}\n",
    "                                       }\n",
    "\n",
    "play_facility_location_payoffs_dict = {'B': {'A':1, 'C':4, 'E':3},\n",
    "                                       'D': {'A':2, 'C':3, 'E':2},\n",
    "                                       'F': {'A':3, 'C':4, 'E':5}\n",
    "                                      }"
   ]
  },
  {
   "cell_type": "code",
   "execution_count": 268,
   "metadata": {},
   "outputs": [
    {
     "data": {
      "text/plain": [
       "'C'"
      ]
     },
     "execution_count": 268,
     "metadata": {},
     "output_type": "execute_result"
    }
   ],
   "source": [
    "player_strats    = ('A', 'C', 'E')\n",
    "opponent_strats  = ('B', 'D', 'F')\n",
    "\n",
    "simulate_decision_asymm(player_strats=player_strats, \n",
    "                        opponent_strats=opponent_strats, \n",
    "                        player_payoff=play_facility_location_payoffs_dict, \n",
    "                        opponent_payoff=oppo_facility_location_payoffs_dict,\n",
    "                        T=10, _lambda=1, sigmas=[None], gamma=None)"
   ]
  },
  {
   "cell_type": "code",
   "execution_count": 252,
   "metadata": {},
   "outputs": [
    {
     "name": "stderr",
     "output_type": "stream",
     "text": [
      "15it [00:21,  1.45s/it]\n"
     ]
    }
   ],
   "source": [
    "Ts       = [1,3,6]\n",
    "_lambdas = [.1, .2, .5, .8, 1.5]\n",
    "sim_count = 3000\n",
    "\n",
    "parameter_sweep_results = []\n",
    "for T, _lambda in tqdm(product(Ts, _lambdas)):\n",
    "    for _ in range(sim_count):\n",
    "        strategy = simulate_decision_asymm(player_strats=player_strats,opponent_strats=opponent_strats, \n",
    "                                           player_payoff=play_facility_location_payoffs_dict, \n",
    "                                           opponent_payoff=oppo_facility_location_payoffs_dict,\n",
    "                                           T=T, _lambda=_lambda)\n",
    "        \n",
    "        parameter_sweep_results.append([T, _lambda, strategy])\n",
    "\n",
    "parameter_sweep_results = pd.DataFrame(data=parameter_sweep_results, \n",
    "                                       columns=['T', 'lambda', 'strategy'])"
   ]
  },
  {
   "cell_type": "code",
   "execution_count": 253,
   "metadata": {},
   "outputs": [],
   "source": [
    "parameter_sweep_results.to_csv('facility_location_game.csv')"
   ]
  },
  {
   "cell_type": "code",
   "execution_count": 254,
   "metadata": {},
   "outputs": [
    {
     "data": {
      "image/png": "[encoded data removed]",
      "text/plain": [
       "<matplotlib.figure.Figure at 0x11907ff28>"
      ]
     },
     "metadata": {},
     "output_type": "display_data"
    }
   ],
   "source": [
    "sns.factorplot(x=\"strategy\", col=\"lambda\", row=\"T\", \n",
    "               data=parameter_sweep_results, kind=\"count\", size=3, aspect=.8);"
   ]
  },
  {
   "cell_type": "markdown",
   "metadata": {},
   "source": [
    "# Post-script\n",
    "\n",
    "Somehow, testing showed that parallelizing the code didn't quicken things, even when running 300 simulations per settting (i.e., per job)....? This might be something to revisit later."
   ]
  },
  {
   "cell_type": "code",
   "execution_count": 3,
   "metadata": {},
   "outputs": [
    {
     "name": "stdout",
     "output_type": "stream",
     "text": [
      "16\n"
     ]
    }
   ],
   "source": [
    "# num_cores = multiprocessing.cpu_count()\n",
    "# print(num_cores)"
   ]
  },
  {
   "cell_type": "code",
   "execution_count": 4,
   "metadata": {},
   "outputs": [],
   "source": [
    "# def repeat_simulations(strats, payoff_func, T, _lambda, gamma, curr_sigmas, sim_count):\n",
    "#     sim_results = []\n",
    "#     for _ in range(sim_count):\n",
    "#         strategy = simulate_decision(strats=strats, payoff_func=payoff_func,\n",
    "#                                      T=T, _lambda=_lambda, gamma=gamma,\n",
    "#                                      sigmas=curr_sigmas)\n",
    "#         sim_results.append([T, _lambda, gamma, curr_sigmas, strategy])\n",
    "#     return sim_results"
   ]
  },
  {
   "cell_type": "code",
   "execution_count": 15,
   "metadata": {},
   "outputs": [],
   "source": [
    "# def parameter_sweep1(strats=None, payoff_func=None, Ts=[10,20,30], _lambdas=[.25, .5, 1, 2, 4], \n",
    "#                     gammas=None, sigmas=[None], sim_count=30):\n",
    "#     results = Parallel(n_jobs=num_cores)(delayed(repeat_simulations)(strats, payoff_func, T, _lambda, gamma, curr_sigmas, sim_count)\\\n",
    "#                                                                      for T, _lambda, gamma, curr_sigmas in product(Ts, _lambdas, \n",
    "#                                                                                                                    gammas, sigmas))\n",
    "#     print(\"Finished simulations. Now reshaping results into a dataframe.\")\n",
    "#     results = [result for sublist in results for result in sublist]\n",
    "#     parameter_sweep_results = pd.DataFrame(data=results, columns=['T', 'lambda', 'gamma', 'sigmas', 'strategy'])\n",
    "#     return parameter_sweep_results"
   ]
  }
 ],
 "metadata": {
  "kernelspec": {
   "display_name": "Python [default]",
   "language": "python",
   "name": "python3"
  },
  "language_info": {
   "codemirror_mode": {
    "name": "ipython",
    "version": 3
   },
   "file_extension": ".py",
   "mimetype": "text/x-python",
   "name": "python",
   "nbconvert_exporter": "python",
   "pygments_lexer": "ipython3",
   "version": "3.6.4"
  }
 },
 "nbformat": 4,
 "nbformat_minor": 2
}
